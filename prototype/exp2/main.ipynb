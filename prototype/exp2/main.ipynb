{
 "cells": [
  {
   "cell_type": "code",
   "execution_count": 1,
   "id": "d9496ba5",
   "metadata": {},
   "outputs": [],
   "source": [
    "import glob\n",
    "import json\n",
    "import math\n",
    "import os\n",
    "import random\n",
    "from typing import Tuple\n",
    "\n",
    "import matplotlib.pyplot as plt\n",
    "import numpy as np\n",
    "import pandas as pd\n",
    "import torch\n",
    "from torch.utils.data import Dataset, DataLoader\n",
    "from tqdm import tqdm\n",
    "\n",
    "input_dir = \"/app/dataset/preprocess/exp2\"\n",
    "output_dir = \"./output\"\n",
    "os.makedirs(output_dir, exist_ok=True)"
   ]
  },
  {
   "cell_type": "markdown",
   "id": "d494356a",
   "metadata": {},
   "source": [
    "### 1. Data preprocessing\n",
    "+ 1.1 observation and cleaning (done)\n",
    "+ 1.2 splitting\n",
    "+ 1.3 numpy or dataloader"
   ]
  },
  {
   "cell_type": "code",
   "execution_count": 2,
   "id": "c39af9e9",
   "metadata": {},
   "outputs": [
    {
     "name": "stdout",
     "output_type": "stream",
     "text": [
      "(2336, 84, 75)\n",
      "2336 {'date_start': '2019-01-03 00:00:00', 'date_end': '2019-03-28 00:00:00', 'pred_end': '2019-04-25 00:00:00', 'top_tickers': ['ETH', 'XRP', 'EOS', 'BCH', 'LTC', 'XLM', 'BNB', 'TRX', 'ADA', 'IOTA', 'XMR', 'DASH', 'NEO', 'MKR', 'ETC']}\n",
      "(2336, 16, 29)\n"
     ]
    }
   ],
   "source": [
    "# load data\n",
    "dataset = np.load(f\"{input_dir}/dataset.npy\", allow_pickle=True)\n",
    "num_samples, window_size, total_features = dataset.shape\n",
    "print(dataset.shape)  # (num_samples, window_size, total_features)\n",
    "\n",
    "meta_list = json.load(open(f\"{input_dir}/meta.json\", \"r\"))\n",
    "print(len(meta_list), meta_list[0])  # (nums_samples, {...})\n",
    "\n",
    "price_ratio = np.load(f\"{input_dir}/price_ratio.npy\", allow_pickle=True)\n",
    "num_samples, num_tickers_add1, pred_days_minus1 = price_ratio.shape\n",
    "num_tickers = num_tickers_add1 - 1\n",
    "pred_days = pred_days_minus1 + 1\n",
    "print(price_ratio.shape)  # (num_samples, num_tickers + 1, pred_days - 1)"
   ]
  },
  {
   "cell_type": "code",
   "execution_count": 3,
   "id": "8eae9de1",
   "metadata": {},
   "outputs": [
    {
     "name": "stdout",
     "output_type": "stream",
     "text": [
      "(1868, 84, 75) (468, 84, 75)\n",
      "(1868, 16, 29) (468, 16, 29)\n"
     ]
    }
   ],
   "source": [
    "# splitting\n",
    "seed = 7\n",
    "random.seed(seed)\n",
    "\n",
    "n_train = int(num_samples * 0.8)\n",
    "train_indices = list(range(num_samples))[:n_train]\n",
    "valid_indices = list(range(num_samples))[n_train:]\n",
    "random.shuffle(train_indices)\n",
    "\n",
    "train_dataset = dataset[train_indices]\n",
    "valid_dataset = dataset[valid_indices]\n",
    "train_price_ratio = price_ratio[train_indices]\n",
    "valid_price_ratio = price_ratio[valid_indices]\n",
    "print(train_dataset.shape, valid_dataset.shape)  # (n_train, window_size, features) (n_valid, window_size, features)\n",
    "print(train_price_ratio.shape, valid_price_ratio.shape)  # (n_train, n_ticks+1, pdays-1) (n_valid, n_ticks+1, pdays-1)"
   ]
  },
  {
   "cell_type": "code",
   "execution_count": 4,
   "id": "8e2a048f",
   "metadata": {},
   "outputs": [
    {
     "data": {
      "text/plain": [
       "(torch.Size([84, 75]), torch.Size([16, 29]))"
      ]
     },
     "execution_count": 4,
     "metadata": {},
     "output_type": "execute_result"
    }
   ],
   "source": [
    "class ToyTimeSeriesRegressionDataset(Dataset):\n",
    "    def __init__(self, x: np.ndarray, y: np.ndarray):\n",
    "        \"\"\"\n",
    "        Args:\n",
    "            x (np.ndarray): shape = (num_data, window_size, num_input_features)\n",
    "            y (torch.Tensor): shape = (num_data, n_ticks+1, pdays-1)\n",
    "        \"\"\"\n",
    "        self.x = torch.tensor(x, dtype=torch.float32)\n",
    "        self.y = torch.tensor(y, dtype=torch.float32)\n",
    "    \n",
    "    def __len__(self) -> int:\n",
    "        return len(self.x)\n",
    "    \n",
    "    def __getitem__(self, index) -> Tuple[torch.Tensor, torch.Tensor]:\n",
    "        \"\"\"\n",
    "        Returns:\n",
    "            x (torch.Tensor): shape = (window_size, num_input_features)\n",
    "            y (torch.Tensor): shape = (n_ticks+1, pdays-1)\n",
    "        \"\"\"\n",
    "        return self.x[index], self.y[index]\n",
    "\n",
    "\n",
    "trainset = ToyTimeSeriesRegressionDataset(train_dataset, train_price_ratio)\n",
    "validset = ToyTimeSeriesRegressionDataset(valid_dataset, valid_price_ratio)\n",
    "trainset[0][0].shape, trainset[0][1].shape  # (window_size, num_input_features), (num_output_features,)"
   ]
  },
  {
   "cell_type": "code",
   "execution_count": 5,
   "id": "585f468a",
   "metadata": {},
   "outputs": [],
   "source": [
    "batch_size = 1\n",
    "\n",
    "trainloader = DataLoader(trainset, batch_size=batch_size, pin_memory=False, shuffle=False)\n",
    "validloader = DataLoader(validset, batch_size=batch_size, pin_memory=False, shuffle=False)"
   ]
  },
  {
   "cell_type": "code",
   "execution_count": null,
   "id": "1ff6b7d4",
   "metadata": {},
   "outputs": [],
   "source": []
  },
  {
   "cell_type": "markdown",
   "id": "7b2525d7",
   "metadata": {},
   "source": [
    "### 2. Model prepatation\n",
    "+ 2.1 model\n",
    "+ 2.2 loss\n",
    "+ 2.3 more hyperparameters"
   ]
  },
  {
   "cell_type": "code",
   "execution_count": 6,
   "id": "f578b287",
   "metadata": {},
   "outputs": [
    {
     "data": {
      "text/plain": [
       "device(type='cpu')"
      ]
     },
     "execution_count": 6,
     "metadata": {},
     "output_type": "execute_result"
    }
   ],
   "source": [
    "# model\n",
    "\n",
    "model_name = \"LSTM\"\n",
    "#model_name = \"Transformer\"\n",
    "\n",
    "device = torch.device(\"cuda\" if torch.cuda.is_available() else \"cpu\")\n",
    "device"
   ]
  },
  {
   "cell_type": "code",
   "execution_count": 7,
   "id": "6ff72567",
   "metadata": {},
   "outputs": [
    {
     "name": "stdout",
     "output_type": "stream",
     "text": [
      "ToyTimeSeriesRegressionLSTM(\n",
      "  (lstm): LSTM(75, 32, num_layers=3, batch_first=True)\n",
      "  (flatten): Flatten(start_dim=1, end_dim=-1)\n",
      "  (dense): Linear(in_features=2688, out_features=480, bias=True)\n",
      ")\n",
      "num_parameters: 1321568\n",
      "torch.Size([1, 480])\n"
     ]
    }
   ],
   "source": [
    "class ToyTimeSeriesRegressionLSTM(torch.nn.Module):\n",
    "    def __init__(\n",
    "            self,\n",
    "            window_size: int,\n",
    "            num_input_features: int,\n",
    "            num_output_features: int,\n",
    "            hidden_size: int = 64\n",
    "        ):\n",
    "        super().__init__()\n",
    "        self.lstm = torch.nn.LSTM(\n",
    "            input_size = num_input_features,\n",
    "            hidden_size = hidden_size,\n",
    "            num_layers = 3,\n",
    "            batch_first = True,\n",
    "        )\n",
    "        self.flatten = torch.nn.Flatten(start_dim = 1)\n",
    "        self.dense = torch.nn.Linear(hidden_size * window_size, num_output_features)\n",
    "        \n",
    "    def forward(self, x: torch.Tensor) -> torch.Tensor:\n",
    "        \"\"\"\n",
    "        Args:\n",
    "            x (torch.Tensor): shape=(batch_size, window_size, num_input_features)\n",
    "        Returns:\n",
    "            x (torch.Tensor): shape=(batch_size, num_output_features)\n",
    "        \"\"\"\n",
    "        x, (_, _) = self.lstm(x)  # shape = (batch_size, window_size, hidden_size)\n",
    "        x = self.flatten(x)  # shaoe = (batch_size, window_size * hidden_size)\n",
    "        x = self.dense(x)\n",
    "        return x\n",
    "    \n",
    "\n",
    "if model_name == \"LSTM\":\n",
    "    example_x, example_y = next(iter(trainset))\n",
    "    window_size, num_input_features = example_x.shape \n",
    "    num_output_features = example_y.numel() + num_tickers_add1\n",
    "    model = ToyTimeSeriesRegressionLSTM(\n",
    "            window_size,\n",
    "            num_input_features,\n",
    "            num_output_features,\n",
    "            hidden_size = 32\n",
    "        ).to(device)\n",
    "    print(model)\n",
    "    print(\"num_parameters:\", sum(p.numel() for p in model.parameters()))\n",
    "    print(model(example_x.reshape(-1, window_size, num_input_features)).shape)"
   ]
  },
  {
   "cell_type": "code",
   "execution_count": 8,
   "id": "3275469f",
   "metadata": {},
   "outputs": [],
   "source": [
    "# class PositionalEncoding(torch.nn.Module):\n",
    "#     \"\"\"\n",
    "#     PE(pos, i)\n",
    "#         where pos = 0, 1, 2, ..., window_size - 1\n",
    "#         and i = 0, 1, 2, ..., num_input_features - 1\n",
    "    \n",
    "#     for i = even -> sin(pos / 10000 ** (2 * i / num_input_features))\n",
    "#     for i = odd  -> cos(pos / 10000 ** (2 * i / num_input_features))\n",
    "\n",
    "#     Notes:\n",
    "#         + window_size = content length = sequence length\n",
    "#         + num_input_features = d_model = encoding size = embedding size\n",
    "#     \"\"\"\n",
    "#     def __init__(self, num_input_features: int, max_len: int = 5000):\n",
    "#         \"\"\"\n",
    "#         max_len has same axis as window_size. that means it supports all window_size within 1~5000.\n",
    "#         \"\"\"\n",
    "#         super().__init__()\n",
    "#         position = torch.arange(max_len).unsqueeze(1)   # shape = (max_len, 1). i.e. [[0],[1],[2],...,[5000]]\n",
    "#         div_term = torch.exp(torch.arange(0, num_input_features, 2) * (-math.log(10000.0) / num_input_features))\n",
    "#         # div_term (divisor_term): shape = (num_features // 2,)\n",
    "#         # e.g. torch.arange(0, num_input_features=4, 2) = [0, 2]\n",
    "#         # e.g. div_term = exp([0, 2] * (-log(10000) / 4))\n",
    "#         # = [exp(-0 / 4 * log(10000)), exp(-2 / 4 * log(10000))]\n",
    "#         # = [10000 ** -0 / 4, 10000 ** -2 / 4]\n",
    "#         # = [1 / 10000 ** 0 / 4, 1 / 10000 ** 2 / 4]\n",
    "        \n",
    "#         pe = torch.zeros(max_len, num_input_features)\n",
    "#         pe[:, 0::2] = torch.sin(position * div_term)   # shape = (max_len, num_input_features) = (5000, 4)\n",
    "#         pe[:, 1::2] = torch.cos(position * div_term)   # shape = (max_len, num_input_features) = (5000, 4)\n",
    "        \n",
    "#         self.register_buffer('pe', pe)  # remain at cpu and non-trainable\n",
    "    \n",
    "\n",
    "#     def forward(self, x):\n",
    "#         \"\"\"\n",
    "#         Args:\n",
    "#             x (torch.Tensor): shape = (batch_size, window_size, features)\n",
    "#         Returns:\n",
    "#             x (torch.Tensor): same shape as above\n",
    "#         \"\"\"\n",
    "#         window_size = x.shape[1]\n",
    "#         return x + self.pe[:window_size, :].unsqueeze(0)\n",
    "\n",
    "\n",
    "# class ToyTransformerEncoder(torch.nn.Module):\n",
    "#     def __init__(self, window_size: int, num_input_features: int, num_output_features: int):\n",
    "#         super().__init__()\n",
    "#         self.positional_encoding = PositionalEncoding(num_input_features)\n",
    "#         encoder_layer = torch.nn.TransformerEncoderLayer(\n",
    "#             d_model = num_input_features,\n",
    "#             nhead = 2,\n",
    "#             dim_feedforward = 64,\n",
    "#             batch_first = True\n",
    "#         )\n",
    "#         self.transformer_encoder = torch.nn.TransformerEncoder(encoder_layer, num_layers=3)\n",
    "#         self.flatten = torch.nn.Flatten(start_dim = 1)\n",
    "#         self.dense = torch.nn.Linear(num_input_features * window_size, num_output_features)\n",
    "\n",
    "#     def forward(self, x: torch.Tensor) -> torch.Tensor:\n",
    "#         \"\"\"\n",
    "#         Args:\n",
    "#             x (torch.Tensor): shape = (batch_size, window_size, num_input_features)\n",
    "#         Returns:\n",
    "#             x (torch.Tensor): shape = (batch_size, num_output_features)\n",
    "#         \"\"\"\n",
    "#         x = self.positional_encoding(x)\n",
    "#         x = self.transformer_encoder(x)\n",
    "#         x = self.flatten(x)\n",
    "#         x = self.dense(x)\n",
    "#         return x\n",
    "\n",
    "\n",
    "# if model_name == \"Transformer\":\n",
    "#     example_x, example_y = next(iter(trainset))\n",
    "#     window_size, num_input_features = example_x.shape \n",
    "#     num_output_features = example_y.numel()\n",
    "#     model = ToyTransformerEncoder(\n",
    "#         window_size,\n",
    "#         num_input_features,\n",
    "#         num_output_features\n",
    "#     ).to(device)\n",
    "#     print(model)\n",
    "#     print(\"num_parameters:\", sum(p.numel() for p in model.parameters()))\n",
    "#     print(model(example_x).shape)"
   ]
  },
  {
   "cell_type": "code",
   "execution_count": 9,
   "id": "d38ca401",
   "metadata": {},
   "outputs": [],
   "source": [
    "class SharpeLoss(torch.nn.Module):\n",
    "    def __init__(\n",
    "            self,\n",
    "            transaction_fee_rate: float = 0.0002,\n",
    "            pred_days: int = 30,\n",
    "            num_tickers: int = 16,\n",
    "            ema_alpha: float = 0.1,\n",
    "            history_save_path: str = \"\",\n",
    "            history_save_freq: int = 100\n",
    "        ):\n",
    "        super().__init__()\n",
    "        self.transaction_fee_rate = transaction_fee_rate\n",
    "        self.pred_days = pred_days\n",
    "        self.num_tickers = num_tickers\n",
    "        self.ema_alpha = ema_alpha\n",
    "        self.history_save_path = history_save_path\n",
    "        if self.history_save_path:\n",
    "            os.makedirs(os.path.dirname(self.history_save_path), exist_ok=True)\n",
    "            self.train_history, self.train_history_acc = [], 0\n",
    "            self.history_save_freq = history_save_freq\n",
    "        self.i = 0\n",
    "    \n",
    "    def forward(self, y_pred, y_true):\n",
    "        model_output = y_pred.reshape(self.pred_days, self.num_tickers)  # (30, 16)\n",
    "        price_ratio_block = y_true.reshape(self.num_tickers, self.pred_days - 1)  # (16, 29)\n",
    "        if model_output.isnan().any():\n",
    "            print(\"model output has nan\", self.i)\n",
    "            print(pd.DataFrame(model_output.detach().cpu().numpy()))\n",
    "            raise\n",
    "\n",
    "        # change the last column (cash) to be non-negative\n",
    "        # init investment combination for days\n",
    "        comb_for_days = model_output / model_output.sum(axis=1, keepdim=True)\n",
    "        comb_for_days = torch.cat([\n",
    "            comb_for_days[:, :-1],\n",
    "            torch.abs(comb_for_days[:, -1:])\n",
    "        ], dim=1)\n",
    "        comb_for_days = comb_for_days / comb_for_days.sum(axis=1, keepdim=True)\n",
    "\n",
    "        # iterate days for changing\n",
    "        money_comb = comb_for_days[0].clone()\n",
    "        money_history = [torch.tensor(1.0, device=y_pred.device)]\n",
    "        for day in range(1, self.pred_days):\n",
    "            # iterate tickers in a day\n",
    "            money_comb = money_comb * (1 + price_ratio_block[:, day - 1])\n",
    "            turnover = torch.abs(comb_for_days[day] - comb_for_days[day - 1]).sum()\n",
    "            money = money_comb.sum()\n",
    "            #money = torch.clamp(money - money * turnover * self.transaction_fee_rate, min=1e-12)\n",
    "            money = money - money * turnover * self.transaction_fee_rate\n",
    "            money_history.append(money)\n",
    "            money_comb = comb_for_days[day] * money  # reweighting\n",
    "            #print(day, float(money_history[-1]), [x.item() for x in money_comb])\n",
    "            #print(\"===\")\n",
    "            if money_comb.isnan().any():\n",
    "                print(\"combination has nan\", self.i)\n",
    "                print(pd.DataFrame(model_output.detach().cpu().numpy()))\n",
    "                print(money_comb)\n",
    "                raise\n",
    "        money_history = torch.stack(money_history)\n",
    "\n",
    "        # compute sharpe ratio\n",
    "        if self.history_save_path:\n",
    "            excess_returns = money_history[1:] / money_history[:-1] - 1\n",
    "            sharpe_ratio = excess_returns.mean() / (excess_returns.std() + 1e-6)\n",
    "            self.train_history_acc += float(sharpe_ratio.item())\n",
    "            if (self.i + 1) % self.history_save_freq == 0:\n",
    "                self.train_history.append(self.train_history_acc / self.history_save_freq)\n",
    "                self.train_history_acc = 0\n",
    "                self.save_history()\n",
    "\n",
    "        # compute log return with EMA  # alpha has include 1/(1+days) already  # r**2 is ele in variance\n",
    "        log_returns = torch.log(money_history[1:] / (money_history[:-1] + 1e-10) + 1e-10)\n",
    "        if 1:\n",
    "            mask = ~torch.isnan(log_returns)\n",
    "            # compute mean over valid entries\n",
    "            mean_val = log_returns[mask].mean()\n",
    "            # replace NaN with mean\n",
    "            log_returns = torch.where(mask, log_returns, mean_val)\n",
    "        ema_var = torch.zeros(1, device=y_pred.device)\n",
    "        for r in log_returns:\n",
    "            ema_var = self.ema_alpha * (r ** 2) + (1 - self.ema_alpha) * ema_var\n",
    "        ema_std = torch.sqrt(ema_var + 1e-8)\n",
    "\n",
    "        # Sharpe ratio\n",
    "        sharpe_ratio = log_returns.mean() / (ema_std + 1e-6)\n",
    "\n",
    "        if sharpe_ratio.isnan().any():\n",
    "            print(\"sharpe ratio has nan\", self.i)\n",
    "            print(pd.DataFrame(model_output.detach().cpu().numpy()))\n",
    "            print([float(m.item()) for m in money_history])\n",
    "            print(float(sharpe_ratio), float(log_returns.mean()), float(ema_std + 1e-6))\n",
    "            print(\"log_return\", log_returns)\n",
    "            print(money_history[1:] / (money_history[:-1] + 1e-10) + 1e-10)\n",
    "            raise\n",
    "        self.i += 1\n",
    "        return -sharpe_ratio\n",
    "    \n",
    "    def save_history(self):\n",
    "        if self.history_save_path:\n",
    "            json.dump(list(map(float, self.train_history)), open(self.history_save_path, \"w\"), indent=4)\n"
   ]
  },
  {
   "cell_type": "code",
   "execution_count": 10,
   "id": "13a3d10e",
   "metadata": {},
   "outputs": [],
   "source": [
    "# loss\n",
    "loss_func = SharpeLoss(\n",
    "    transaction_fee_rate = 0.0002,\n",
    "    pred_days = pred_days,\n",
    "    num_tickers = num_tickers + 1,\n",
    "    history_save_path = f\"{output_dir}/sharpe_ratio_history.json\",\n",
    "    history_save_freq = len(trainset)\n",
    ")\n",
    "\n",
    "# more hyperparameters\n",
    "epochs = 2000\n",
    "optimizer = torch.optim.Adam(model.parameters(), lr=3e-4)\n",
    "save_ckpts_per_epochs = 30"
   ]
  },
  {
   "cell_type": "code",
   "execution_count": null,
   "id": "89568e33",
   "metadata": {},
   "outputs": [],
   "source": []
  },
  {
   "cell_type": "markdown",
   "id": "50a75560",
   "metadata": {},
   "source": [
    "### 3. Training\n",
    "+ 3.1 epoch: train loop, valid loop, save ckpts and loss\n",
    "+ 3.2 check convergence"
   ]
  },
  {
   "cell_type": "code",
   "execution_count": 11,
   "id": "1d80a359",
   "metadata": {},
   "outputs": [
    {
     "name": "stderr",
     "output_type": "stream",
     "text": [
      " 28%|██▊       | 569/2000 [12:16:39<30:52:38, 77.68s/it]    \n"
     ]
    },
    {
     "ename": "KeyboardInterrupt",
     "evalue": "",
     "output_type": "error",
     "traceback": [
      "\u001b[31m---------------------------------------------------------------------------\u001b[39m",
      "\u001b[31mKeyboardInterrupt\u001b[39m                         Traceback (most recent call last)",
      "\u001b[36mCell\u001b[39m\u001b[36m \u001b[39m\u001b[32mIn[11]\u001b[39m\u001b[32m, line 14\u001b[39m\n\u001b[32m     12\u001b[39m pred = model(x)            \u001b[38;5;66;03m# 2. f(x) and f'(x)\u001b[39;00m\n\u001b[32m     13\u001b[39m loss = loss_func(pred, y) / gradient_update_freq  \u001b[38;5;66;03m# 3. compute loss\u001b[39;00m\n\u001b[32m---> \u001b[39m\u001b[32m14\u001b[39m \u001b[43mloss\u001b[49m\u001b[43m.\u001b[49m\u001b[43mbackward\u001b[49m\u001b[43m(\u001b[49m\u001b[43m)\u001b[49m            \u001b[38;5;66;03m# 4. send loss to torch\u001b[39;00m\n\u001b[32m     15\u001b[39m \u001b[38;5;28;01mif\u001b[39;00m (i + \u001b[32m1\u001b[39m) % gradient_update_freq == \u001b[32m0\u001b[39m \u001b[38;5;129;01mor\u001b[39;00m (i + \u001b[32m1\u001b[39m) == \u001b[38;5;28mlen\u001b[39m(trainloader):\n\u001b[32m     16\u001b[39m     optimizer.step()           \u001b[38;5;66;03m# 5. update model parameters by torch loss \u001b[39;00m\n",
      "\u001b[36mFile \u001b[39m\u001b[32m/opt/conda/lib/python3.11/site-packages/torch/_tensor.py:648\u001b[39m, in \u001b[36mTensor.backward\u001b[39m\u001b[34m(self, gradient, retain_graph, create_graph, inputs)\u001b[39m\n\u001b[32m    638\u001b[39m \u001b[38;5;28;01mif\u001b[39;00m has_torch_function_unary(\u001b[38;5;28mself\u001b[39m):\n\u001b[32m    639\u001b[39m     \u001b[38;5;28;01mreturn\u001b[39;00m handle_torch_function(\n\u001b[32m    640\u001b[39m         Tensor.backward,\n\u001b[32m    641\u001b[39m         (\u001b[38;5;28mself\u001b[39m,),\n\u001b[32m   (...)\u001b[39m\u001b[32m    646\u001b[39m         inputs=inputs,\n\u001b[32m    647\u001b[39m     )\n\u001b[32m--> \u001b[39m\u001b[32m648\u001b[39m \u001b[43mtorch\u001b[49m\u001b[43m.\u001b[49m\u001b[43mautograd\u001b[49m\u001b[43m.\u001b[49m\u001b[43mbackward\u001b[49m\u001b[43m(\u001b[49m\n\u001b[32m    649\u001b[39m \u001b[43m    \u001b[49m\u001b[38;5;28;43mself\u001b[39;49m\u001b[43m,\u001b[49m\u001b[43m \u001b[49m\u001b[43mgradient\u001b[49m\u001b[43m,\u001b[49m\u001b[43m \u001b[49m\u001b[43mretain_graph\u001b[49m\u001b[43m,\u001b[49m\u001b[43m \u001b[49m\u001b[43mcreate_graph\u001b[49m\u001b[43m,\u001b[49m\u001b[43m \u001b[49m\u001b[43minputs\u001b[49m\u001b[43m=\u001b[49m\u001b[43minputs\u001b[49m\n\u001b[32m    650\u001b[39m \u001b[43m\u001b[49m\u001b[43m)\u001b[49m\n",
      "\u001b[36mFile \u001b[39m\u001b[32m/opt/conda/lib/python3.11/site-packages/torch/autograd/__init__.py:353\u001b[39m, in \u001b[36mbackward\u001b[39m\u001b[34m(tensors, grad_tensors, retain_graph, create_graph, grad_variables, inputs)\u001b[39m\n\u001b[32m    348\u001b[39m     retain_graph = create_graph\n\u001b[32m    350\u001b[39m \u001b[38;5;66;03m# The reason we repeat the same comment below is that\u001b[39;00m\n\u001b[32m    351\u001b[39m \u001b[38;5;66;03m# some Python versions print out the first line of a multi-line function\u001b[39;00m\n\u001b[32m    352\u001b[39m \u001b[38;5;66;03m# calls in the traceback and some print out the last line\u001b[39;00m\n\u001b[32m--> \u001b[39m\u001b[32m353\u001b[39m \u001b[43m_engine_run_backward\u001b[49m\u001b[43m(\u001b[49m\n\u001b[32m    354\u001b[39m \u001b[43m    \u001b[49m\u001b[43mtensors\u001b[49m\u001b[43m,\u001b[49m\n\u001b[32m    355\u001b[39m \u001b[43m    \u001b[49m\u001b[43mgrad_tensors_\u001b[49m\u001b[43m,\u001b[49m\n\u001b[32m    356\u001b[39m \u001b[43m    \u001b[49m\u001b[43mretain_graph\u001b[49m\u001b[43m,\u001b[49m\n\u001b[32m    357\u001b[39m \u001b[43m    \u001b[49m\u001b[43mcreate_graph\u001b[49m\u001b[43m,\u001b[49m\n\u001b[32m    358\u001b[39m \u001b[43m    \u001b[49m\u001b[43minputs\u001b[49m\u001b[43m,\u001b[49m\n\u001b[32m    359\u001b[39m \u001b[43m    \u001b[49m\u001b[43mallow_unreachable\u001b[49m\u001b[43m=\u001b[49m\u001b[38;5;28;43;01mTrue\u001b[39;49;00m\u001b[43m,\u001b[49m\n\u001b[32m    360\u001b[39m \u001b[43m    \u001b[49m\u001b[43maccumulate_grad\u001b[49m\u001b[43m=\u001b[49m\u001b[38;5;28;43;01mTrue\u001b[39;49;00m\u001b[43m,\u001b[49m\n\u001b[32m    361\u001b[39m \u001b[43m\u001b[49m\u001b[43m)\u001b[49m\n",
      "\u001b[36mFile \u001b[39m\u001b[32m/opt/conda/lib/python3.11/site-packages/torch/autograd/graph.py:824\u001b[39m, in \u001b[36m_engine_run_backward\u001b[39m\u001b[34m(t_outputs, *args, **kwargs)\u001b[39m\n\u001b[32m    822\u001b[39m     unregister_hooks = _register_logging_hooks_on_whole_graph(t_outputs)\n\u001b[32m    823\u001b[39m \u001b[38;5;28;01mtry\u001b[39;00m:\n\u001b[32m--> \u001b[39m\u001b[32m824\u001b[39m     \u001b[38;5;28;01mreturn\u001b[39;00m \u001b[43mVariable\u001b[49m\u001b[43m.\u001b[49m\u001b[43m_execution_engine\u001b[49m\u001b[43m.\u001b[49m\u001b[43mrun_backward\u001b[49m\u001b[43m(\u001b[49m\u001b[43m  \u001b[49m\u001b[38;5;66;43;03m# Calls into the C++ engine to run the backward pass\u001b[39;49;00m\n\u001b[32m    825\u001b[39m \u001b[43m        \u001b[49m\u001b[43mt_outputs\u001b[49m\u001b[43m,\u001b[49m\u001b[43m \u001b[49m\u001b[43m*\u001b[49m\u001b[43margs\u001b[49m\u001b[43m,\u001b[49m\u001b[43m \u001b[49m\u001b[43m*\u001b[49m\u001b[43m*\u001b[49m\u001b[43mkwargs\u001b[49m\n\u001b[32m    826\u001b[39m \u001b[43m    \u001b[49m\u001b[43m)\u001b[49m  \u001b[38;5;66;03m# Calls into the C++ engine to run the backward pass\u001b[39;00m\n\u001b[32m    827\u001b[39m \u001b[38;5;28;01mfinally\u001b[39;00m:\n\u001b[32m    828\u001b[39m     \u001b[38;5;28;01mif\u001b[39;00m attach_logging_hooks:\n",
      "\u001b[31mKeyboardInterrupt\u001b[39m: "
     ]
    }
   ],
   "source": [
    "history = {\"train_loss_list\": [], \"valid_loss_list\": []}\n",
    "\n",
    "# gradient accumulation technique\n",
    "gradient_update_freq = 8  \n",
    "optimizer.zero_grad()\n",
    "\n",
    "for epoch in tqdm(range(epochs)):\n",
    "    # training loop\n",
    "    train_loss= 0.\n",
    "    for i, (x, y) in enumerate(trainloader):\n",
    "        x, y = x.to(device), y.to(device)\n",
    "        pred = model(x)            # 2. f(x) and f'(x)\n",
    "        loss = loss_func(pred, y) / gradient_update_freq  # 3. compute loss\n",
    "        loss.backward()            # 4. send loss to torch\n",
    "        if (i + 1) % gradient_update_freq == 0 or (i + 1) == len(trainloader):\n",
    "            optimizer.step()           # 5. update model parameters by torch loss \n",
    "            optimizer.zero_grad()      # 1. zero the parameter gradients\n",
    "        train_loss += loss.item() / len(trainset)\n",
    "        \n",
    "    # validation\n",
    "    valid_loss = 0.\n",
    "    for x, y in validloader:\n",
    "        with torch.no_grad():\n",
    "            x, y = x.to(device), y.to(device)\n",
    "            pred = model(x)\n",
    "            loss = loss_func(pred, y)\n",
    "            valid_loss += loss.item() / len(validset)\n",
    "            \n",
    "    # save\n",
    "    history[\"train_loss_list\"].append(train_loss)\n",
    "    history[\"valid_loss_list\"].append(valid_loss)\n",
    "    with open(os.path.join(output_dir, \"history.json\"), \"w\") as f:\n",
    "        json.dump(history, f, indent=4)\n",
    "    if valid_loss == min(history[\"valid_loss_list\"]):\n",
    "        torch.save(model.state_dict(), os.path.join(output_dir, \"best.pt\"))\n",
    "    elif (epoch + 1) % save_ckpts_per_epochs == 0:\n",
    "        torch.save(\n",
    "            model.state_dict(),\n",
    "            os.path.join(output_dir, f\"epoch_{str(epoch).zfill(3)}.pt\")\n",
    "        )"
   ]
  },
  {
   "cell_type": "code",
   "execution_count": 12,
   "id": "7c0d8116",
   "metadata": {},
   "outputs": [
    {
     "data": {
      "image/png": "[encoded data removed]",
      "text/plain": [
       "<Figure size 640x480 with 1 Axes>"
      ]
     },
     "metadata": {},
     "output_type": "display_data"
    }
   ],
   "source": [
    "L = json.load(open(f\"{output_dir}/sharpe_ratio_history.json\"))\n",
    "plt.plot(L)\n",
    "plt.show()"
   ]
  },
  {
   "cell_type": "code",
   "execution_count": 13,
   "id": "382bd42f",
   "metadata": {},
   "outputs": [
    {
     "data": {
      "image/png": "[encoded data removed]",
      "text/plain": [
       "<Figure size 640x480 with 1 Axes>"
      ]
     },
     "metadata": {},
     "output_type": "display_data"
    }
   ],
   "source": [
    "# check convergence\n",
    "history = json.load(open(os.path.join(output_dir, \"history.json\")))\n",
    "f = plt.figure()\n",
    "f.set_facecolor(\"orange\")\n",
    "plt.plot(history['train_loss_list'], label='train_loss')\n",
    "plt.plot(history['valid_loss_list'], label='valid_loss')\n",
    "plt.xlabel(\"epochs\")\n",
    "plt.ylabel(\"mse\")\n",
    "plt.legend()\n",
    "plt.grid()\n",
    "plt.show()"
   ]
  },
  {
   "cell_type": "code",
   "execution_count": null,
   "id": "e24580fd",
   "metadata": {},
   "outputs": [],
   "source": []
  },
  {
   "cell_type": "markdown",
   "id": "9ffe5cb9",
   "metadata": {},
   "source": [
    "### 4. Prediction\n",
    "+ 4.1 testset\n",
    "+ 4.2 (optional) metrics\n",
    "+ 4.3 (optional) data improvement"
   ]
  },
  {
   "cell_type": "code",
   "execution_count": null,
   "id": "8a3fd8dd",
   "metadata": {},
   "outputs": [],
   "source": [
    "# load checkpoints and inference\n",
    "# ckpt_path = os.path.join(output_dir, \"best.pt\")\n",
    "# train_dataset_result = train_dataset.copy()\n",
    "# trainloader = trainloader\n",
    "# valid_dataset_result = valid_dataset.copy()\n",
    "# validloader = validloader\n",
    "\n",
    "# model = ToyTimeSeriesRegressionLSTM(\n",
    "#         window_size,\n",
    "#         num_input_features,\n",
    "#         num_output_features,\n",
    "#         hidden_size = 32\n",
    "#     ).to(device)\n",
    "# # model = ToyTransformerEncoder(\n",
    "# #         window_size,\n",
    "# #         num_input_features,\n",
    "# #         num_output_features,\n",
    "# #     ).to(device)\n",
    "# model.load_state_dict(torch.load(ckpt_path))\n",
    "# model.eval()\n",
    "# loss_func = torch.nn.MSELoss(reduction=\"none\")\n",
    "\n",
    "# normalizer = Normalizer(pd.read_csv(f\"{output_dir}/dataset_describe.csv\", index_col=0))\n",
    "# cols = [\"open\", \"high\", \"low\", \"close\", \"volume\"]\n",
    "\n",
    "# for dataset_result, loader, name in [\n",
    "#         (train_dataset_result, trainloader, \"train\"),\n",
    "#         (valid_dataset_result, validloader, \"valid\")\n",
    "#     ]:\n",
    "#     prediction_list = []\n",
    "#     loss_list = []\n",
    "#     for x, y in loader:\n",
    "#         with torch.no_grad():\n",
    "#             pred = model(x)\n",
    "#             loss = loss_func(pred, y)\n",
    "#             prediction_list.append(pred.cpu().numpy())  # (B, 4)\n",
    "#             loss_list.append(loss.cpu().numpy())  # (B, 4)\n",
    "#     preds = np.concatenate(prediction_list)  # (N, num_output_features)\n",
    "\n",
    "#     # denormalize\n",
    "#     df_preds = pd.DataFrame(preds, columns=cols)\n",
    "#     df_preds_denorm = normalizer.run(df_preds, denorm_map_dict)\n",
    "#     df_result_x = normalizer.run(dataset_result[cols], denorm_map_dict)\n",
    "#     df_result_y = normalizer.run(\n",
    "#         dataset_result[[f\"y_{col}\" for col in cols]].rename(columns={f\"y_{col}\": col for col in cols}),\n",
    "#         denorm_map_dict\n",
    "#     ).rename(columns={col: f\"y_{col}\" for col in cols})\n",
    "#     df_result = pd.concat([df_result_x, df_result_y], axis=1)\n",
    "#     #print(df_result)\n",
    "#     #print(df_preds_denorm)\n",
    "#     #raise\n",
    "\n",
    "#     preds_repeat = np.repeat(df_preds_denorm.to_numpy(), window_size, axis=0)  # (window_size * N, num_output_features)\n",
    "#     loss = np.concatenate(loss_list)\n",
    "#     loss_repeat = np.repeat(loss, window_size, axis=0)\n",
    "#     df_result[[f\"pred_{i}\" for i in range(num_output_features)]] = preds_repeat\n",
    "#     df_result[[f\"loss_{i}\" for i in range(num_output_features)]] = loss_repeat\n",
    "#     df_result.to_csv(os.path.join(output_dir, f\"{name}_df_result.csv\"), index=False)\n",
    "#     #print(df_result)\n",
    "#     #raise"
   ]
  },
  {
   "cell_type": "code",
   "execution_count": null,
   "id": "7283320c",
   "metadata": {},
   "outputs": [],
   "source": []
  }
 ],
 "metadata": {
  "kernelspec": {
   "display_name": "base",
   "language": "python",
   "name": "python3"
  },
  "language_info": {
   "codemirror_mode": {
    "name": "ipython",
    "version": 3
   },
   "file_extension": ".py",
   "mimetype": "text/x-python",
   "name": "python",
   "nbconvert_exporter": "python",
   "pygments_lexer": "ipython3",
   "version": "3.11.13"
  }
 },
 "nbformat": 4,
 "nbformat_minor": 5
}
